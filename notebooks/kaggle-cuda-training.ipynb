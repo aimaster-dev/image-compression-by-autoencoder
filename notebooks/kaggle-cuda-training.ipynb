{
 "metadata": {
  "kernelspec": {
   "language": "python",
   "display_name": "Python 3",
   "name": "python3"
  },
  "language_info": {
   "name": "python",
   "version": "3.10.10",
   "mimetype": "text/x-python",
   "codemirror_mode": {
    "name": "ipython",
    "version": 3
   },
   "pygments_lexer": "ipython3",
   "nbconvert_exporter": "python",
   "file_extension": ".py"
  }
 },
 "nbformat_minor": 4,
 "nbformat": 4,
 "cells": [
  {
   "cell_type": "code",
   "source": [
    "!ls /kaggle/input"
   ],
   "metadata": {
    "execution": {
     "iopub.status.busy": "2023-06-04T18:31:44.849732Z",
     "iopub.execute_input": "2023-06-04T18:31:44.850449Z",
     "iopub.status.idle": "2023-06-04T18:31:45.832946Z",
     "shell.execute_reply.started": "2023-06-04T18:31:44.850421Z",
     "shell.execute_reply": "2023-06-04T18:31:45.831690Z"
    },
    "trusted": true
   },
   "execution_count": 1,
   "outputs": [
    {
     "name": "stdout",
     "text": "130k-images-512x512-universal-image-embeddings\n",
     "output_type": "stream"
    }
   ]
  },
  {
   "cell_type": "code",
   "source": [
    "from pathlib import Path\n",
    "import shutil\n",
    "import os\n",
    "\n",
    "root = Path(\"/kaggle/input/130k-images-512x512-universal-image-embeddings\")\n",
    "\n",
    "dirs = os.listdir(root)\n",
    "dirs = [d for d in dirs if os.path.isdir(root / d)]\n",
    "dirs"
   ],
   "metadata": {
    "execution": {
     "iopub.status.busy": "2023-06-04T18:32:09.031778Z",
     "iopub.execute_input": "2023-06-04T18:32:09.032149Z",
     "iopub.status.idle": "2023-06-04T18:32:09.048747Z",
     "shell.execute_reply.started": "2023-06-04T18:32:09.032120Z",
     "shell.execute_reply": "2023-06-04T18:32:09.047635Z"
    },
    "trusted": true
   },
   "execution_count": 3,
   "outputs": [
    {
     "execution_count": 3,
     "output_type": "execute_result",
     "data": {
      "text/plain": "['artwork',\n 'apparel',\n 'landmark',\n 'cars',\n 'furniture',\n 'storefronts',\n 'toys',\n 'meme',\n 'dishes',\n 'packaged',\n 'illustrations']"
     },
     "metadata": {}
    }
   ]
  },
  {
   "cell_type": "code",
   "source": [
    "import tqdm\n",
    "\n",
    "os.makedirs(\"train_data\", exist_ok=True)\n",
    "\n",
    "for class_name in dirs:\n",
    "    class_root = root / class_name\n",
    "    files = os.listdir(class_root)\n",
    "    for file in tqdm.tqdm(files, desc=f\"Copy: {class_name} files\"):\n",
    "        dest = f\"train_data/{class_name + file}\"\n",
    "        shutil.copy(class_root / file, dest)"
   ],
   "metadata": {
    "execution": {
     "iopub.status.busy": "2023-06-04T18:32:11.265727Z",
     "iopub.execute_input": "2023-06-04T18:32:11.266115Z",
     "iopub.status.idle": "2023-06-04T18:43:34.995987Z",
     "shell.execute_reply.started": "2023-06-04T18:32:11.266083Z",
     "shell.execute_reply": "2023-06-04T18:43:34.995017Z"
    },
    "trusted": true
   },
   "execution_count": 4,
   "outputs": [
    {
     "name": "stderr",
     "text": "Copy: artwork files: 100%|██████████| 4957/4957 [00:26<00:00, 190.60it/s]\nCopy: apparel files: 100%|██████████| 32226/32226 [02:24<00:00, 222.32it/s]\nCopy: landmark files: 100%|██████████| 33063/33063 [02:48<00:00, 195.79it/s]\nCopy: cars files: 100%|██████████| 8144/8144 [00:37<00:00, 217.65it/s]\nCopy: furniture files: 100%|██████████| 10488/10488 [00:48<00:00, 217.85it/s]\nCopy: storefronts files: 100%|██████████| 5387/5387 [00:27<00:00, 198.21it/s]\nCopy: toys files: 100%|██████████| 2402/2402 [00:10<00:00, 230.97it/s]\nCopy: meme files: 100%|██████████| 3301/3301 [00:16<00:00, 200.84it/s]\nCopy: dishes files: 100%|██████████| 5831/5831 [00:31<00:00, 185.51it/s]\nCopy: packaged files: 100%|██████████| 23382/23382 [02:32<00:00, 153.51it/s]\nCopy: illustrations files: 100%|██████████| 3347/3347 [00:18<00:00, 183.62it/s]\n",
     "output_type": "stream"
    }
   ]
  },
  {
   "cell_type": "code",
   "source": [
    "!git clone https://github.com/Danielto1404/image-comressor.git"
   ],
   "metadata": {
    "execution": {
     "iopub.status.busy": "2023-06-04T18:43:34.998140Z",
     "iopub.execute_input": "2023-06-04T18:43:34.998826Z",
     "iopub.status.idle": "2023-06-04T18:43:38.235082Z",
     "shell.execute_reply.started": "2023-06-04T18:43:34.998789Z",
     "shell.execute_reply": "2023-06-04T18:43:38.233923Z"
    },
    "trusted": true
   },
   "execution_count": 5,
   "outputs": [
    {
     "name": "stdout",
     "text": "Cloning into 'image-comressor'...\nremote: Enumerating objects: 198, done.\u001B[K\nremote: Counting objects: 100% (198/198), done.\u001B[K\nremote: Compressing objects: 100% (117/117), done.\u001B[K\nremote: Total 198 (delta 100), reused 173 (delta 77), pack-reused 0\u001B[K\nReceiving objects: 100% (198/198), 1.64 MiB | 20.02 MiB/s, done.\nResolving deltas: 100% (100/100), done.\n",
     "output_type": "stream"
    }
   ]
  },
  {
   "cell_type": "code",
   "source": [
    "!cd image-comressor && git pull"
   ],
   "metadata": {
    "execution": {
     "iopub.status.busy": "2023-06-04T19:58:28.378903Z",
     "iopub.execute_input": "2023-06-04T19:58:28.379303Z",
     "iopub.status.idle": "2023-06-04T19:58:29.685089Z",
     "shell.execute_reply.started": "2023-06-04T19:58:28.379268Z",
     "shell.execute_reply": "2023-06-04T19:58:29.683873Z"
    },
    "trusted": true
   },
   "execution_count": 17,
   "outputs": [
    {
     "name": "stdout",
     "text": "remote: Enumerating objects: 9, done.\u001B[K\nremote: Counting objects: 100% (9/9), done.\u001B[K\nremote: Compressing objects: 100% (1/1), done.\u001B[K\nremote: Total 5 (delta 4), reused 5 (delta 4), pack-reused 0\u001B[K\nUnpacking objects: 100% (5/5), 600 bytes | 300.00 KiB/s, done.\nFrom https://github.com/Danielto1404/image-comressor\n   9763025..adc3126  main       -> origin/main\nUpdating 9763025..adc3126\nFast-forward\n code/trainer.py | 10 \u001B[32m+++++++++\u001B[m\u001B[31m-\u001B[m\n train.py        |  4 \u001B[32m+++\u001B[m\u001B[31m-\u001B[m\n 2 files changed, 12 insertions(+), 2 deletions(-)\n",
     "output_type": "stream"
    }
   ]
  },
  {
   "cell_type": "code",
   "source": [
    "!cd image-comressor && python train.py \\\n",
    "    --root=../train_data \\\n",
    "    --test-root=assets/images \\\n",
    "    --epochs=1 \\\n",
    "    --resnet-model=resnet18 \\\n",
    "    --qb=8 \\\n",
    "    --device=cuda \\\n",
    "    --lr=1e-4 \\\n",
    "    --batch_size=32 \\\n",
    "    --save_results_every=200 \\\n",
    "    --use_checkpoint"
   ],
   "metadata": {
    "execution": {
     "iopub.status.busy": "2023-06-04T19:59:57.068160Z",
     "iopub.execute_input": "2023-06-04T19:59:57.068560Z"
    },
    "trusted": true
   },
   "execution_count": null,
   "outputs": [
    {
     "name": "stdout",
     "text": "Starting training with the following parameters:\nroot: ../train_data\ntest_root: assets/images\nresnet_model: resnet18\nqb: 8\nepochs: 1\nbatch_size: 32\nlr: 0.0001\ndevice: cuda\nsave_results_every: 200\nsave_models_dir: models\nuse_checkpoint: True\n\nEpoch 1/1:  76%|██████████▋   | 3149/4142 [44:33<14:06,  1.17it/s, loss=0.00677]",
     "output_type": "stream"
    }
   ]
  },
  {
   "cell_type": "code",
   "source": [
    "!du -h image-comressor/models/*"
   ],
   "metadata": {
    "execution": {
     "iopub.status.busy": "2023-06-04T19:49:01.502286Z",
     "iopub.execute_input": "2023-06-04T19:49:01.502752Z",
     "iopub.status.idle": "2023-06-04T19:49:02.532841Z",
     "shell.execute_reply.started": "2023-06-04T19:49:01.502714Z",
     "shell.execute_reply": "2023-06-04T19:49:02.531667Z"
    },
    "trusted": true
   },
   "execution_count": 13,
   "outputs": [
    {
     "name": "stdout",
     "text": "31M\timage-comressor/models/resnet18_B=8_decoder.pth\n43M\timage-comressor/models/resnet18_B=8_encoder.pth\n",
     "output_type": "stream"
    }
   ]
  },
  {
   "cell_type": "code",
   "source": [
    "!cp image-comressor/models/* ."
   ],
   "metadata": {
    "execution": {
     "iopub.status.busy": "2023-06-04T19:49:02.535116Z",
     "iopub.execute_input": "2023-06-04T19:49:02.535503Z",
     "iopub.status.idle": "2023-06-04T19:49:03.689736Z",
     "shell.execute_reply.started": "2023-06-04T19:49:02.535465Z",
     "shell.execute_reply": "2023-06-04T19:49:03.688340Z"
    },
    "trusted": true
   },
   "execution_count": 14,
   "outputs": []
  },
  {
   "cell_type": "code",
   "source": [
    "!ls"
   ],
   "metadata": {
    "execution": {
     "iopub.status.busy": "2023-06-04T19:49:03.692557Z",
     "iopub.execute_input": "2023-06-04T19:49:03.693049Z",
     "iopub.status.idle": "2023-06-04T19:49:04.681401Z",
     "shell.execute_reply.started": "2023-06-04T19:49:03.693005Z",
     "shell.execute_reply": "2023-06-04T19:49:04.680166Z"
    },
    "trusted": true
   },
   "execution_count": 15,
   "outputs": [
    {
     "name": "stdout",
     "text": " __notebook_source__.ipynb  'resnet18_B=8_decoder.pth'\t train_data\n image-comressor\t    'resnet18_B=8_encoder.pth'\n",
     "output_type": "stream"
    }
   ]
  }
 ]
}
